{
 "cells": [
  {
   "cell_type": "code",
   "execution_count": 19,
   "id": "3d1cee99",
   "metadata": {},
   "outputs": [
    {
     "data": {
      "text/plain": [
       "('8GB', 'Windows')"
      ]
     },
     "execution_count": 19,
     "metadata": {},
     "output_type": "execute_result"
    }
   ],
   "source": [
    "#21 Write a class to represent a Laptop.\n",
    "class Laptop:\n",
    "    def __init__(self,Company,RAM,OS):\n",
    "        self.Company=Company\n",
    "        self.RAM = RAM\n",
    "        self.OS = OS\n",
    "        \n",
    "    def description(self,Company):\n",
    "        return self.RAM,self.OS\n",
    "    \n",
    "HP = Laptop('HP','8GB','Windows')\n",
    "HP.description('HP')"
   ]
  },
  {
   "cell_type": "code",
   "execution_count": 6,
   "id": "666c44e1",
   "metadata": {},
   "outputs": [
    {
     "data": {
      "text/plain": [
       "'SBI is located at X'"
      ]
     },
     "execution_count": 6,
     "metadata": {},
     "output_type": "execute_result"
    }
   ],
   "source": [
    "#22 Write a class to represent an ATM machine.\n",
    "\n",
    "class ATM:\n",
    "    def __init__(self,bank, limit, location):\n",
    "        self.bank=bank\n",
    "        self.limit = limit \n",
    "        self.location = location\n",
    "        \n",
    "    def description(self, location):\n",
    "        return f'{self.bank} is located at {self.location}'\n",
    "    \n",
    "HP = ATM('SBI', 50000, 'X')\n",
    "HP.description('X')"
   ]
  },
  {
   "cell_type": "code",
   "execution_count": 7,
   "id": "09a4a5b6",
   "metadata": {},
   "outputs": [
    {
     "data": {
      "text/plain": [
       "'There are 500 students studying in 12 classes in PES'"
      ]
     },
     "execution_count": 7,
     "metadata": {},
     "output_type": "execute_result"
    }
   ],
   "source": [
    "#23 Write a class to represent a school.\n",
    "\n",
    "class school:\n",
    "    def __init__(self,student, classes,name):\n",
    "        self.student = student\n",
    "        self.classes = classes \n",
    "        self.name = name\n",
    "        \n",
    "    def description(self, name):\n",
    "        return f'There are {self.student} students studying in {self.classes} classes in {self.name}'\n",
    "    \n",
    "HP = school(500, 12, 'PES')\n",
    "HP.description('PES')"
   ]
  },
  {
   "cell_type": "code",
   "execution_count": 10,
   "id": "7e5df811",
   "metadata": {},
   "outputs": [
    {
     "data": {
      "text/plain": [
       "'ABC is a private company working on dot net technology'"
      ]
     },
     "execution_count": 10,
     "metadata": {},
     "output_type": "execute_result"
    }
   ],
   "source": [
    "#24 Write a class to represent a company.\n",
    "class company:\n",
    "    def __init__(self,name, types, tech_stack):\n",
    "        self.name = name\n",
    "        self.types = types \n",
    "        self.tech_stack = tech_stack\n",
    "        \n",
    "    def description(self, name):\n",
    "        return f'{self.name} is a {self.types} company working on {self.tech_stack} technology'\n",
    "    \n",
    "HP = company('ABC', 'private', 'dot net')\n",
    "HP.description('ABC')"
   ]
  },
  {
   "cell_type": "code",
   "execution_count": 13,
   "id": "12ef0c15",
   "metadata": {},
   "outputs": [
    {
     "data": {
      "text/plain": [
       "'12 students went to Harishchandraghat on 08-10-2022'"
      ]
     },
     "execution_count": 13,
     "metadata": {},
     "output_type": "execute_result"
    }
   ],
   "source": [
    "#25 Write a class to represent a Journey / Trip.\n",
    "class Trip:\n",
    "    def __init__(self,students, location, date):\n",
    "        self.students = students\n",
    "        self.location = location \n",
    "        self.date = date\n",
    "        \n",
    "    def description(self, location):\n",
    "        return f'{self.students} students went to {self.location} on {self.date}'\n",
    "    \n",
    "HP = Trip(12, 'Harishchandraghat', '08-10-2022')\n",
    "HP.description('Harishchandraghat')"
   ]
  },
  {
   "cell_type": "code",
   "execution_count": 11,
   "id": "34589115",
   "metadata": {},
   "outputs": [],
   "source": [
    "#26 Persists the data of a class in a table in a database. ( Postgres )\n"
   ]
  },
  {
   "cell_type": "code",
   "execution_count": 60,
   "id": "15e7feea",
   "metadata": {},
   "outputs": [
    {
     "name": "stdout",
     "output_type": "stream",
     "text": [
      "['Pdb', 'Restart', 'TESTCMD', '__all__', '__builtins__', '__cached__', '__doc__', '__file__', '__loader__', '__name__', '__package__', '__spec__', '_rstr', '_usage', 'bdb', 'cmd', 'code', 'dis', 'find_function', 'getsourcelines', 'glob', 'help', 'inspect', 'io', 'lasti2lineno', 'line_prefix', 'linecache', 'main', 'os', 'pm', 'post_mortem', 'pprint', 're', 'run', 'runcall', 'runctx', 'runeval', 'set_trace', 'signal', 'sys', 'test', 'tokenize', 'traceback']\n"
     ]
    }
   ],
   "source": [
    "#27 use dir function to print all the available functions in the following modules on standard output :\n",
    "\n",
    "import datetime, calendar, math, cmath, collections, email, gc, hashlib, html, http, io,json,logging,pdb,random,runpy,re,ssl,statistics,subprocess,sys,time,tkinter,types,typing,uuid\n",
    "x=[datetime.datetime, datetime.date, datetime.timedelta,calendar,math,cmath,collections,email,gc,hashlib,html,http,io,json,logging,pdb,random,runpy,re,ssl,statistics,subprocess,sys,time,tkinter,types,typing,uuid,urllib]\n",
    "\n",
    "def print_dir(lib):\n",
    "    if lib in x:\n",
    "        print(dir(lib))\n",
    "    else:\n",
    "        print('Not a valid module')\n",
    "print_dir(pdb)"
   ]
  },
  {
   "cell_type": "code",
   "execution_count": 100,
   "id": "2a0233e8",
   "metadata": {},
   "outputs": [
    {
     "name": "stdout",
     "output_type": "stream",
     "text": [
      "Afghanistan['Badakhshan', 'Badghis', 'Baghlan', 'Balkh', 'Bamian', 'Daykondi', 'Farah', 'Faryab', 'Ghazni', 'Ghowr', 'Helmand', 'Herat']\n",
      "\n",
      "Albania['Berat', 'Dibres', 'Durres', 'Elbasan', 'Fier', 'Gjirokastre', 'Korce', 'Kukes', 'Lezhe', 'Shkoder', 'Tirane', 'Vlore']\n",
      "\n",
      "Algeria['Adrar', 'Ain Defla', 'Ain Temouchent', 'Alger', 'Annaba', 'Batna', 'Bechar', 'Bejaia', 'Biskra', 'Blida', 'Bordj Bou Arreridj']\n",
      "\n",
      "Andorra['Andorra la Vella', 'Canillo', 'Encamp', 'Escaldes-Engordany', 'La Massana', 'Ordino', 'Sant Julia de Loria']\n",
      "\n",
      "Angola['Bengo', 'Benguela', 'Bie', 'Cabinda', 'Cuando Cubango', 'Cuanza Norte', 'Cuanza Sul', 'Cunene', 'Huambo', 'Huila', 'Luanda']\n",
      "\n"
     ]
    }
   ],
   "source": [
    "#28 Given the names of countries - states in a json file, load the file , read the json objects and then print the cities \n",
    "#against a country\n",
    "\n",
    "\n",
    "import json\n",
    "  \n",
    "# Opening JSON file\n",
    "with open('./Downloads/countries.json', 'r') as f:\n",
    "    data = json.load(f)\n",
    "\n",
    "for i in countries:\n",
    "    for j in range(len(data['countries'])):\n",
    "        for k,v in (data[i][j]).items():\n",
    "            print(v , end = '')\n",
    "        print('\\n')\n"
   ]
  },
  {
   "cell_type": "code",
   "execution_count": 124,
   "id": "c9493b58",
   "metadata": {},
   "outputs": [
    {
     "name": "stdout",
     "output_type": "stream",
     "text": [
      "['Han', 'Aku', 'Bindu', 'Subhash', 'Amy', 'Yogi', 'Minal', 'Tutz']\n",
      "Sum of encoded values : 3763\n"
     ]
    }
   ],
   "source": [
    "#29 Given the name strings in a file, read all the names and one-hot encod all the names and find the total sum\n",
    "with open('./Downloads/names.txt') as file:\n",
    "    data = [line.strip() for line in file]\n",
    "#encoding names with their ascii characters + 10\n",
    "l=[]\n",
    "print(data)\n",
    "for i in data:\n",
    "    sum1=0\n",
    "    for j in i:\n",
    "        sum1+=ord(j)+10\n",
    "    l.append(sum1)\n",
    "print(f'Sum of encoded values : {sum(l)}')\n"
   ]
  },
  {
   "cell_type": "code",
   "execution_count": 118,
   "id": "cede1632",
   "metadata": {},
   "outputs": [
    {
     "data": {
      "text/plain": [
       "[279, 289, 498, 718, 295, 408, 497, 439]"
      ]
     },
     "execution_count": 118,
     "metadata": {},
     "output_type": "execute_result"
    }
   ],
   "source": [
    "#30 Given the name strings in a file, read all the names, convert them to corresponding ascii characters and calculate the sum\n",
    "with open('./Downloads/names.txt') as file:\n",
    "    data = [line.strip() for line in file]\n",
    "l=[]\n",
    "\n",
    "for i in data:\n",
    "    sum1=0\n",
    "    for j in i:\n",
    "        sum1+=ord(j)\n",
    "    l.append(sum1)\n",
    "l"
   ]
  },
  {
   "cell_type": "code",
   "execution_count": 161,
   "id": "8f74acb7",
   "metadata": {},
   "outputs": [
    {
     "name": "stdout",
     "output_type": "stream",
     "text": [
      "The byte equivalent of hash is : b\"\\x8b\\x1a\\x99S\\xc4a\\x12\\x96\\xa8'\\xab\\xf8\\xc4x\\x04\\xd7\"\n"
     ]
    }
   ],
   "source": [
    "#31 Given a user_input as a string, calculate its md5 hash\n",
    "import hashlib\n",
    "  \n",
    "# encoding GeeksforGeeks using md5 hash\n",
    "# function \n",
    "result = hashlib.md5(b'Hello')\n",
    "  \n",
    "# printing the equivalent byte value.\n",
    "print(\"The byte equivalent of hash is : \", end =\"\")\n",
    "print(result.digest())"
   ]
  },
  {
   "cell_type": "code",
   "execution_count": 171,
   "id": "05bbefa5",
   "metadata": {},
   "outputs": [
    {
     "name": "stdout",
     "output_type": "stream",
     "text": [
      "Numpy array : [23 43 11 34 12  1  4 23  4  5]\n"
     ]
    }
   ],
   "source": [
    "#32 given numbers ( in string format ) in a file, read them and create a numpy array\n",
    "import numpy as np\n",
    "\n",
    "with open('./Downloads/numbers.txt') as file:\n",
    "    data = [int(line.strip()) for line in file]\n",
    "np_num = np.array(data)\n",
    "print(f'Numpy array : {np_num}')"
   ]
  },
  {
   "cell_type": "code",
   "execution_count": 175,
   "id": "96bf8c3e",
   "metadata": {},
   "outputs": [
    {
     "data": {
      "text/html": [
       "<div>\n",
       "<style scoped>\n",
       "    .dataframe tbody tr th:only-of-type {\n",
       "        vertical-align: middle;\n",
       "    }\n",
       "\n",
       "    .dataframe tbody tr th {\n",
       "        vertical-align: top;\n",
       "    }\n",
       "\n",
       "    .dataframe thead th {\n",
       "        text-align: right;\n",
       "    }\n",
       "</style>\n",
       "<table border=\"1\" class=\"dataframe\">\n",
       "  <thead>\n",
       "    <tr style=\"text-align: right;\">\n",
       "      <th></th>\n",
       "      <th>Sl.No</th>\n",
       "      <th>Marks</th>\n",
       "    </tr>\n",
       "  </thead>\n",
       "  <tbody>\n",
       "    <tr>\n",
       "      <th>0</th>\n",
       "      <td>1</td>\n",
       "      <td>23</td>\n",
       "    </tr>\n",
       "    <tr>\n",
       "      <th>1</th>\n",
       "      <td>2</td>\n",
       "      <td>34</td>\n",
       "    </tr>\n",
       "    <tr>\n",
       "      <th>2</th>\n",
       "      <td>3</td>\n",
       "      <td>47</td>\n",
       "    </tr>\n",
       "    <tr>\n",
       "      <th>3</th>\n",
       "      <td>4</td>\n",
       "      <td>27</td>\n",
       "    </tr>\n",
       "    <tr>\n",
       "      <th>4</th>\n",
       "      <td>5</td>\n",
       "      <td>34</td>\n",
       "    </tr>\n",
       "    <tr>\n",
       "      <th>5</th>\n",
       "      <td>6</td>\n",
       "      <td>21</td>\n",
       "    </tr>\n",
       "    <tr>\n",
       "      <th>6</th>\n",
       "      <td>7</td>\n",
       "      <td>14</td>\n",
       "    </tr>\n",
       "    <tr>\n",
       "      <th>7</th>\n",
       "      <td>8</td>\n",
       "      <td>35</td>\n",
       "    </tr>\n",
       "    <tr>\n",
       "      <th>8</th>\n",
       "      <td>9</td>\n",
       "      <td>50</td>\n",
       "    </tr>\n",
       "    <tr>\n",
       "      <th>9</th>\n",
       "      <td>10</td>\n",
       "      <td>45</td>\n",
       "    </tr>\n",
       "  </tbody>\n",
       "</table>\n",
       "</div>"
      ],
      "text/plain": [
       "  Sl.No Marks\n",
       "0     1    23\n",
       "1     2    34\n",
       "2     3    47\n",
       "3     4    27\n",
       "4     5    34\n",
       "5     6    21\n",
       "6     7    14\n",
       "7     8    35\n",
       "8     9    50\n",
       "9    10    45"
      ]
     },
     "execution_count": 175,
     "metadata": {},
     "output_type": "execute_result"
    }
   ],
   "source": [
    "#33 Given numbers ( in string format ) in a file, read them and create a pandas data frame object\n",
    "import pandas as pd\n",
    "\n",
    "with open('./Downloads/marks.txt') as file:\n",
    "    data = [line.strip().split() for line in file]\n",
    "df = pd.DataFrame(data, columns = ['Sl.No','Marks'])\n",
    "df"
   ]
  },
  {
   "cell_type": "code",
   "execution_count": 182,
   "id": "f8ae8fc3",
   "metadata": {},
   "outputs": [
    {
     "data": {
      "text/plain": [
       "a    23\n",
       "b    43\n",
       "c    11\n",
       "d    34\n",
       "e    12\n",
       "f     1\n",
       "g     4\n",
       "h    23\n",
       "i     4\n",
       "j     5\n",
       "dtype: object"
      ]
     },
     "execution_count": 182,
     "metadata": {},
     "output_type": "execute_result"
    }
   ],
   "source": [
    "#34 Given number ( in string format ) in a file, read them and create a pandas series\n",
    "import pandas as pd\n",
    "\n",
    "with open('./Downloads/numbers.txt') as file:\n",
    "    data = [line.strip() for line in file]\n",
    "#sereis with indices\n",
    "series = pd.Series(data, index = ['a','b','c','d','e','f','g','h','i','j'])\n",
    "series"
   ]
  },
  {
   "cell_type": "code",
   "execution_count": 193,
   "id": "1f76e713",
   "metadata": {},
   "outputs": [
    {
     "name": "stdout",
     "output_type": "stream",
     "text": [
      "No. of rows : 2\n",
      "No. of columns : 3\n",
      "23\n",
      "44\n",
      "54\n",
      "32\n",
      "23\n",
      "1\n",
      "Matrix : [['23' '44' '54']\n",
      " ['32' '23' '1']]\n"
     ]
    }
   ],
   "source": [
    "#35 Construct a 2x5 numpy matrix by taking all the numbers as input from user\n",
    "\n",
    "rows = int(input('No. of rows : '))\n",
    "columns = int(input('No. of columns : '))\n",
    "ls = []\n",
    "for i in range(rows*columns):\n",
    "    ls.append(input( ))\n",
    "matrix = np.array(ls)\n",
    "matrix = matrix.reshape(rows,columns) \n",
    "matrix.shape\n",
    "print(f'Matrix : {matrix}')"
   ]
  },
  {
   "cell_type": "code",
   "execution_count": 199,
   "id": "3f0c22cd",
   "metadata": {},
   "outputs": [
    {
     "data": {
      "text/html": [
       "<div>\n",
       "<style scoped>\n",
       "    .dataframe tbody tr th:only-of-type {\n",
       "        vertical-align: middle;\n",
       "    }\n",
       "\n",
       "    .dataframe tbody tr th {\n",
       "        vertical-align: top;\n",
       "    }\n",
       "\n",
       "    .dataframe thead th {\n",
       "        text-align: right;\n",
       "    }\n",
       "</style>\n",
       "<table border=\"1\" class=\"dataframe\">\n",
       "  <thead>\n",
       "    <tr style=\"text-align: right;\">\n",
       "      <th></th>\n",
       "      <th>0</th>\n",
       "      <th>1</th>\n",
       "      <th>2</th>\n",
       "    </tr>\n",
       "  </thead>\n",
       "  <tbody>\n",
       "    <tr>\n",
       "      <th>0</th>\n",
       "      <td>23</td>\n",
       "      <td>44</td>\n",
       "      <td>54</td>\n",
       "    </tr>\n",
       "    <tr>\n",
       "      <th>1</th>\n",
       "      <td>32</td>\n",
       "      <td>23</td>\n",
       "      <td>1</td>\n",
       "    </tr>\n",
       "  </tbody>\n",
       "</table>\n",
       "</div>"
      ],
      "text/plain": [
       "    0   1   2\n",
       "0  23  44  54\n",
       "1  32  23   1"
      ]
     },
     "execution_count": 199,
     "metadata": {},
     "output_type": "execute_result"
    }
   ],
   "source": [
    "#36 Convert the above numpy matrix to a pandas data frame\n",
    "matrix_df = pd.DataFrame(matrix)\n",
    "matrix_df"
   ]
  },
  {
   "cell_type": "code",
   "execution_count": 200,
   "id": "48a06bed",
   "metadata": {},
   "outputs": [],
   "source": [
    "#37 Save the above data frame as a csv file\n",
    "matrix_df.to_csv('./Downloads/matrix.csv')\n",
    "print('Saved Successfully')"
   ]
  },
  {
   "cell_type": "code",
   "execution_count": 201,
   "id": "6ca87109",
   "metadata": {},
   "outputs": [
    {
     "name": "stdout",
     "output_type": "stream",
     "text": [
      "Saved Successfully\n"
     ]
    }
   ],
   "source": [
    "#38 Save the above data frame as an excel file\n",
    "matrix_df.to_excel('./Downloads/matrix_xl.xlsx')\n",
    "print('Saved Successfully')"
   ]
  },
  {
   "cell_type": "code",
   "execution_count": 133,
   "id": "f876113f",
   "metadata": {},
   "outputs": [],
   "source": [
    "#39 Replicate the same data in the excel file across multiple sheets with different names\n"
   ]
  },
  {
   "cell_type": "code",
   "execution_count": 134,
   "id": "61a6ecb4",
   "metadata": {},
   "outputs": [],
   "source": [
    "#40 Create an excel sheet in google-sheets, read it via python and print the data on screen.\n"
   ]
  },
  {
   "cell_type": "code",
   "execution_count": 325,
   "id": "845d0ad8",
   "metadata": {},
   "outputs": [
    {
     "data": {
      "image/png": "[encoded data removed]",
      "text/plain": [
       "<Figure size 432x288 with 1 Axes>"
      ]
     },
     "metadata": {
      "needs_background": "light"
     },
     "output_type": "display_data"
    }
   ],
   "source": [
    "#41 print a picture using matplotlib.\n",
    "import matplotlib.pyplot as plt\n",
    "import matplotlib.image as mpimg\n",
    "img = mpimg.imread('C:/Users/Hany/Pictures/wall.jpg')\n",
    "imgplot = plt.imshow(img)\n",
    "plt.show()"
   ]
  },
  {
   "cell_type": "code",
   "execution_count": 224,
   "id": "34c975b1",
   "metadata": {},
   "outputs": [
    {
     "data": {
      "image/png": "[encoded data removed]",
      "text/plain": [
       "<Figure size 432x288 with 1 Axes>"
      ]
     },
     "metadata": {
      "needs_background": "light"
     },
     "output_type": "display_data"
    }
   ],
   "source": [
    "#42 Draw sin wave using matplotlib.\n",
    "import matplotlib.pyplot as plt\n",
    "import numpy as np\n",
    "\n",
    "Fs = 8000\n",
    "f = 5\n",
    "sample = 4000\n",
    "x = np.arange(sample)\n",
    "y = np.sin(2 * np.pi * f * x / Fs)\n",
    "plt.plot(x, y)\n",
    "plt.xlabel('x')\n",
    "plt.ylabel('f(x)')\n",
    "plt.show()"
   ]
  },
  {
   "cell_type": "code",
   "execution_count": 326,
   "id": "8297b286",
   "metadata": {},
   "outputs": [
    {
     "data": {
      "image/png": "[encoded data removed]",
      "text/plain": [
       "<Figure size 432x288 with 1 Axes>"
      ]
     },
     "metadata": {
      "needs_background": "light"
     },
     "output_type": "display_data"
    }
   ],
   "source": [
    "#43 Draw cos wave using matplotlib./\n",
    "import matplotlib.pyplot as plt\n",
    "import numpy as np\n",
    "\n",
    "Fs = 8000\n",
    "f = 5\n",
    "sample = 8000\n",
    "x = np.arange(sample)\n",
    "y = np.cos(2 * np.pi * f * x / Fs)\n",
    "plt.plot(x, y)\n",
    "plt.xlabel('x')\n",
    "plt.ylabel('f(x)')\n",
    "plt.show()"
   ]
  },
  {
   "cell_type": "code",
   "execution_count": 221,
   "id": "918db130",
   "metadata": {},
   "outputs": [
    {
     "data": {
      "image/png": "[encoded data removed]",
      "text/plain": [
       "<Figure size 432x288 with 1 Axes>"
      ]
     },
     "metadata": {
      "needs_background": "light"
     },
     "output_type": "display_data"
    }
   ],
   "source": [
    "#44 Draw step function using matplotlib\n",
    "import matplotlib.pyplot as plt\n",
    "\n",
    "x = [1,2,3,4] \n",
    "y = [0.12,9,2.8,4.6]\n",
    "\n",
    "plt.step(x, y)\n",
    "plt.show()"
   ]
  },
  {
   "cell_type": "code",
   "execution_count": 139,
   "id": "824b6690",
   "metadata": {},
   "outputs": [],
   "source": [
    "#45 Draw fourier series using matplotlib\n"
   ]
  },
  {
   "cell_type": "code",
   "execution_count": 323,
   "id": "8df9dd46",
   "metadata": {},
   "outputs": [
    {
     "name": "stdout",
     "output_type": "stream",
     "text": [
      "The data: URI https://uis https://dopiaza.org/tools/datauri/index.php scheme allows you to build URLs https://medium.com/analytics-vidhya/how-to-read-and-write-data-to-google-spreadsheet-using-python-ebf54d51a72c that embed small data objects. https://www.javatpoint.com/linear-discriminant-analysis-in-machine-learning data: URIs are supported by most modern browsers - https://www.kaggle.com/code/mayank2896/cardiogood-descriptive-statistics-probability/data you can read about browser support here.\n"
     ]
    },
    {
     "data": {
      "text/plain": [
       "['https://uis',\n",
       " 'https://dopiaza.org/tools/datauri/index.php',\n",
       " 'https://medium.com/analytics-vidhya/how-to-read-and-write-data-to-google-spreadsheet-using-python-ebf54d51a72c',\n",
       " 'https://www.javatpoint.com/linear-discriminant-analysis-in-machine-learning',\n",
       " 'https://www.kaggle.com/code/mayank2896/cardiogood-descriptive-statistics-probability/data']"
      ]
     },
     "execution_count": 323,
     "metadata": {},
     "output_type": "execute_result"
    }
   ],
   "source": [
    "#46 Find all the urls in a data in a file\n",
    "import re\n",
    "\n",
    "with open('./Downloads/urls.txt') as file:\n",
    "    data = [line.strip().split() for line in file]\n",
    "data = data[0]\n",
    "txt = ' '.join(data)\n",
    "print(txt)\n",
    "url = re.findall('(https://[\\w*\\./*[-]*]*)',txt)\n",
    "url"
   ]
  },
  {
   "cell_type": "code",
   "execution_count": 306,
   "id": "62b02c1f",
   "metadata": {},
   "outputs": [],
   "source": [
    "#47 Find all the headings in the data in a file\n"
   ]
  },
  {
   "cell_type": "code",
   "execution_count": 158,
   "id": "887a3c3e",
   "metadata": {},
   "outputs": [
    {
     "name": "stdout",
     "output_type": "stream",
     "text": [
      "Printing AI - 1-18.pdf\n",
      "Printing intro+to+AI+11a.pptx\n",
      "Printing intro+to+AI+11b.pptx\n",
      "Printing intro+to+AI+11c.pptx\n",
      "Printing intro+to+AI+11d.pptx\n",
      "Printing Intro_to_AI_review.pdf\n",
      "Printing lec-1.pdf\n",
      "Printing lec-10.pdf\n",
      "Printing lec-12.pdf\n",
      "Printing lec-13.pdf\n",
      "Printing lec-14.pdf\n",
      "Printing lec-15.pdf\n",
      "Printing lec-16.pdf\n",
      "Printing lec-17.pdf\n",
      "Printing lec-18.pdf\n",
      "Printing lec-2.pdf\n",
      "Printing lec-3.pdf\n",
      "Printing lec-4.pdf\n",
      "Printing lec-5.pdf\n",
      "Printing lec-6.pdf\n",
      "Printing lec-7.pdf\n",
      "Printing lec-8.pdf\n",
      "Printing lec-9.pdf\n",
      "Printing lecture1428643004.pdf\n",
      "Printing Naive_Bayes_Addendum.pdf\n"
     ]
    }
   ],
   "source": [
    "#48 Read all the files in a directory and print them.\n",
    "import os\n",
    "import time\n",
    "\n",
    "path = 'D:\\Jio Institute\\Q1\\AI\\lectures'\n",
    "ls_files = os.listdir(path)\n",
    "ls_files\n",
    "\n",
    "for file in ls_files:\n",
    "    filepath = f'{path}\\\\{file}'\n",
    "    \n",
    "    if os.path.isfile(filepath):\n",
    "        try:\n",
    "            os.startfile(filepath,'print')\n",
    "            print(f'Printing {file}')\n",
    "            time.sleep(5)\n",
    "        except:\n",
    "            print(f'Cannot print {file}')\n",
    "    else:\n",
    "        print(f'{file} not found')"
   ]
  },
  {
   "cell_type": "code",
   "execution_count": 153,
   "id": "f3a90225",
   "metadata": {},
   "outputs": [
    {
     "name": "stdout",
     "output_type": "stream",
     "text": [
      "C:\\\n"
     ]
    }
   ],
   "source": [
    "#49 Find out the parent directory of a directory.\n",
    "from pathlib import Path\n",
    "path = Path(\"/Downloads/names.txt\")\n",
    "print(path.parent.absolute())"
   ]
  },
  {
   "cell_type": "code",
   "execution_count": 147,
   "id": "7958ea9f",
   "metadata": {},
   "outputs": [
    {
     "name": "stdout",
     "output_type": "stream",
     "text": [
      "Enter a number6\n",
      "720\n"
     ]
    }
   ],
   "source": [
    "#50 Find the factorial of a number.\n",
    "\n",
    "def factorial(num):\n",
    "    fact=1\n",
    "    if num==0 or num==1:\n",
    "        return fact\n",
    "    else:\n",
    "        return num*factorial(num-1)\n",
    "    \n",
    "number = int(input('Enter a number'))\n",
    "print(factorial(number))"
   ]
  },
  {
   "cell_type": "code",
   "execution_count": null,
   "id": "cf18ede9",
   "metadata": {},
   "outputs": [],
   "source": []
  }
 ],
 "metadata": {
  "kernelspec": {
   "display_name": "Python 3 (ipykernel)",
   "language": "python",
   "name": "python3"
  },
  "language_info": {
   "codemirror_mode": {
    "name": "ipython",
    "version": 3
   },
   "file_extension": ".py",
   "mimetype": "text/x-python",
   "name": "python",
   "nbconvert_exporter": "python",
   "pygments_lexer": "ipython3",
   "version": "3.9.12"
  }
 },
 "nbformat": 4,
 "nbformat_minor": 5
}
